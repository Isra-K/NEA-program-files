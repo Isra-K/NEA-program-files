{
 "cells": [
  {
   "cell_type": "code",
   "execution_count": 3,
   "id": "4a9425b3",
   "metadata": {},
   "outputs": [],
   "source": [
    "# Importing the necessary packages for the program to run \n",
    "import numpy as np \n",
    "from astropy.table import Table\n",
    "from astropy.io import ascii\n",
    "import matplotlib.pyplot as plt\n",
    "import time "
   ]
  },
  {
   "cell_type": "code",
   "execution_count": 2,
   "id": "d744c95a",
   "metadata": {},
   "outputs": [
    {
     "name": "stdout",
     "output_type": "stream",
     "text": [
      "[(18.64817, 17.41864, 16.94412, 16.58792, 16.39239, 0.05111748, 1.24e+18, 3.92e+17, nan)\n",
      " (20.23271, 18.17684, 17.10938, 16.64266, 16.2581 , 0.110159  , 1.24e+18, 3.92e+17, nan)\n",
      " (23.45753, 19.58114, 18.01423, 17.38922, 17.03886, 0.2846294 , 1.24e+18, 3.92e+17, nan)\n",
      " ...\n",
      " (25.5869 , 22.68267, 20.88023, 19.72527, 19.15104, 0.6045263 , 1.24e+18, 4.27e+18, nan)\n",
      " (25.76973, 23.86504, 21.94216, 20.83464, 19.98038, 0.604469  , 1.24e+18, 8.31e+18, nan)\n",
      " (23.82215, 23.75406, 21.67659, 20.75041, 20.02072, 0.6043065 , 1.24e+18, 8.22e+18, nan)]\n"
     ]
    }
   ],
   "source": [
    "gal_data = np.genfromtxt('galaxies_data.csv', names=True, delimiter=',') # I import the freshly downloaded data from \n",
    "# the sql query on SDSS SkyServer to be manipulated later on \n",
    "print(gal_data)"
   ]
  },
  {
   "cell_type": "code",
   "execution_count": 3,
   "id": "8cd39c7d",
   "metadata": {},
   "outputs": [
    {
     "name": "stdout",
     "output_type": "stream",
     "text": [
      "   u        g        r        i        z      redshift   objid   specobjid class\n",
      "-------- -------- -------- -------- -------- ---------- -------- --------- -----\n",
      "18.64817 17.41864 16.94412 16.58792 16.39239 0.05111748 1.24e+18  3.92e+17   nan\n",
      "20.23271 18.17684 17.10938 16.64266  16.2581   0.110159 1.24e+18  3.92e+17   nan\n",
      "23.45753 19.58114 18.01423 17.38922 17.03886  0.2846294 1.24e+18  3.92e+17   nan\n",
      "21.05175 19.09575  17.9891  17.5036 17.14912  0.1645858 1.24e+18  3.92e+17   nan\n",
      "20.78709 18.60313  17.4926 17.06006 16.60692  0.1185153 1.24e+18  3.92e+17   nan\n",
      " 21.0195 18.79093  17.6685  17.1755 16.84888  0.1089151 1.24e+18  3.92e+17   nan\n",
      "19.44665 18.37631 17.86821 17.46901 17.20613 0.08857036 1.24e+18  3.92e+17   nan\n",
      "19.93836 17.83698 16.73502 16.25718 15.85421  0.1141032 1.24e+18  3.92e+17   nan\n",
      " 19.9371  18.3611 17.33887 16.85494 16.55845  0.1785775 1.24e+18  3.92e+17   nan\n",
      "22.05212 21.06207 20.19822 19.03743 18.83564  0.6739925 1.24e+18  4.59e+18   nan\n",
      "     ...      ...      ...      ...      ...        ...      ...       ...   ...\n",
      "22.44612 22.14119 20.46895 19.28031 18.74236  0.6045083 1.24e+18  5.48e+18   nan\n",
      "23.48634 22.32471 21.05885 19.90427 19.13326   0.604582 1.24e+18  4.31e+18   nan\n",
      "24.84814 23.38893 21.40487 20.22017 19.53989   0.604399 1.24e+18  5.27e+17   nan\n",
      "23.11693 21.94829 20.52284 19.34619  18.8368  0.6041347 1.24e+18  6.64e+18   nan\n",
      "25.24032  22.5445 20.89547 19.84513  19.5318  0.6041265 1.24e+18  6.65e+18   nan\n",
      "22.64639  23.4615 21.39145 20.16621 19.74411  0.6046107 1.24e+18  7.95e+18   nan\n",
      "23.24763  22.0691 20.81595 19.92437 19.75663  0.6045753 1.24e+18  4.25e+18   nan\n",
      "25.65678 22.83567 20.80334 19.73554 19.09521  0.6045501 1.24e+18  4.27e+18   nan\n",
      " 25.5869 22.68267 20.88023 19.72527 19.15104  0.6045263 1.24e+18  4.27e+18   nan\n",
      "25.76973 23.86504 21.94216 20.83464 19.98038   0.604469 1.24e+18  8.31e+18   nan\n",
      "23.82215 23.75406 21.67659 20.75041 20.02072  0.6043065 1.24e+18  8.22e+18   nan\n",
      "Length = 70000 rows\n"
     ]
    }
   ],
   "source": [
    "data = Table(gal_data) # I convert the data into an Astropy table \n",
    "print(data)"
   ]
  },
  {
   "cell_type": "code",
   "execution_count": 4,
   "id": "fb925f58",
   "metadata": {},
   "outputs": [],
   "source": [
    "mod_data = Table() # creating a new table that will hold the subtracted colour indices"
   ]
  },
  {
   "cell_type": "code",
   "execution_count": 5,
   "id": "d8a369ca",
   "metadata": {},
   "outputs": [],
   "source": [
    "mod_data['u-g'] = (data['u'] - data['g'])\n",
    "mod_data['g-r'] = (data['g'] - data['r'])\n",
    "mod_data['r-i'] = (data['r'] - data['i'])\n",
    "mod_data['i-z'] = (data['i'] - data['z'])\n",
    "mod_data['redshift'] = (data['redshift']) # this is the measured, spectroscopic redshift that will become the targets I \n",
    "# will train my model with "
   ]
  },
  {
   "cell_type": "code",
   "execution_count": 6,
   "id": "ca28c9c9",
   "metadata": {},
   "outputs": [
    {
     "data": {
      "text/html": [
       "<div><i>Table length=70000</i>\n",
       "<table id=\"table2770544801104\" class=\"table-striped table-bordered table-condensed\">\n",
       "<thead><tr><th>u-g</th><th>g-r</th><th>r-i</th><th>i-z</th><th>redshift</th></tr></thead>\n",
       "<thead><tr><th>float64</th><th>float64</th><th>float64</th><th>float64</th><th>float64</th></tr></thead>\n",
       "<tr><td>1.2295300000000005</td><td>0.4745199999999983</td><td>0.3562000000000012</td><td>0.19553000000000154</td><td>0.05111748</td></tr>\n",
       "<tr><td>2.0558700000000023</td><td>1.067459999999997</td><td>0.46672000000000224</td><td>0.38456000000000046</td><td>0.110159</td></tr>\n",
       "<tr><td>3.876389999999997</td><td>1.56691</td><td>0.6250099999999996</td><td>0.350360000000002</td><td>0.2846294</td></tr>\n",
       "<tr><td>1.9559999999999995</td><td>1.1066499999999984</td><td>0.4855000000000018</td><td>0.3544799999999988</td><td>0.1645858</td></tr>\n",
       "<tr><td>2.183959999999999</td><td>1.1105300000000007</td><td>0.4325399999999995</td><td>0.4531400000000012</td><td>0.1185153</td></tr>\n",
       "<tr><td>2.2285700000000013</td><td>1.1224299999999978</td><td>0.4930000000000021</td><td>0.32661999999999836</td><td>0.1089151</td></tr>\n",
       "<tr><td>1.0703400000000016</td><td>0.5080999999999989</td><td>0.39920000000000044</td><td>0.2628799999999991</td><td>0.08857036</td></tr>\n",
       "<tr><td>2.101379999999999</td><td>1.1019600000000018</td><td>0.47783999999999693</td><td>0.4029700000000016</td><td>0.1141032</td></tr>\n",
       "<tr><td>1.5760000000000005</td><td>1.0222300000000004</td><td>0.48393000000000086</td><td>0.2964899999999986</td><td>0.1785775</td></tr>\n",
       "<tr><td>0.9900500000000001</td><td>0.8638499999999993</td><td>1.1607899999999987</td><td>0.20178999999999903</td><td>0.6739925</td></tr>\n",
       "<tr><td>...</td><td>...</td><td>...</td><td>...</td><td>...</td></tr>\n",
       "<tr><td>1.1616299999999988</td><td>1.26586</td><td>1.1545799999999993</td><td>0.7710100000000004</td><td>0.604582</td></tr>\n",
       "<tr><td>1.4592100000000023</td><td>1.9840599999999995</td><td>1.1846999999999994</td><td>0.6802799999999998</td><td>0.604399</td></tr>\n",
       "<tr><td>1.16864</td><td>1.4254500000000014</td><td>1.1766499999999986</td><td>0.5093899999999998</td><td>0.6041347</td></tr>\n",
       "<tr><td>2.695820000000001</td><td>1.6490299999999998</td><td>1.0503399999999985</td><td>0.31333000000000055</td><td>0.6041265</td></tr>\n",
       "<tr><td>-0.8151100000000007</td><td>2.070050000000002</td><td>1.2252399999999994</td><td>0.42210000000000036</td><td>0.6046107</td></tr>\n",
       "<tr><td>1.178530000000002</td><td>1.253149999999998</td><td>0.8915800000000011</td><td>0.16773999999999845</td><td>0.6045753</td></tr>\n",
       "<tr><td>2.821110000000001</td><td>2.0323300000000017</td><td>1.0677999999999983</td><td>0.6403299999999987</td><td>0.6045501</td></tr>\n",
       "<tr><td>2.9042299999999983</td><td>1.8024400000000007</td><td>1.1549600000000027</td><td>0.57423</td><td>0.6045263</td></tr>\n",
       "<tr><td>1.9046899999999987</td><td>1.9228799999999993</td><td>1.107520000000001</td><td>0.85426</td><td>0.604469</td></tr>\n",
       "<tr><td>0.06809000000000154</td><td>2.077469999999998</td><td>0.9261800000000022</td><td>0.729689999999998</td><td>0.6043065</td></tr>\n",
       "</table></div>"
      ],
      "text/plain": [
       "<Table length=70000>\n",
       "        u-g                g-r         ...         i-z          redshift \n",
       "      float64            float64       ...       float64        float64  \n",
       "------------------- ------------------ ... ------------------- ----------\n",
       " 1.2295300000000005 0.4745199999999983 ... 0.19553000000000154 0.05111748\n",
       " 2.0558700000000023  1.067459999999997 ... 0.38456000000000046   0.110159\n",
       "  3.876389999999997            1.56691 ...   0.350360000000002  0.2846294\n",
       " 1.9559999999999995 1.1066499999999984 ...  0.3544799999999988  0.1645858\n",
       "  2.183959999999999 1.1105300000000007 ...  0.4531400000000012  0.1185153\n",
       " 2.2285700000000013 1.1224299999999978 ... 0.32661999999999836  0.1089151\n",
       " 1.0703400000000016 0.5080999999999989 ...  0.2628799999999991 0.08857036\n",
       "  2.101379999999999 1.1019600000000018 ...  0.4029700000000016  0.1141032\n",
       " 1.5760000000000005 1.0222300000000004 ...  0.2964899999999986  0.1785775\n",
       " 0.9900500000000001 0.8638499999999993 ... 0.20178999999999903  0.6739925\n",
       "                ...                ... ...                 ...        ...\n",
       " 1.1616299999999988            1.26586 ...  0.7710100000000004   0.604582\n",
       " 1.4592100000000023 1.9840599999999995 ...  0.6802799999999998   0.604399\n",
       "            1.16864 1.4254500000000014 ...  0.5093899999999998  0.6041347\n",
       "  2.695820000000001 1.6490299999999998 ... 0.31333000000000055  0.6041265\n",
       "-0.8151100000000007  2.070050000000002 ... 0.42210000000000036  0.6046107\n",
       "  1.178530000000002  1.253149999999998 ... 0.16773999999999845  0.6045753\n",
       "  2.821110000000001 2.0323300000000017 ...  0.6403299999999987  0.6045501\n",
       " 2.9042299999999983 1.8024400000000007 ...             0.57423  0.6045263\n",
       " 1.9046899999999987 1.9228799999999993 ...             0.85426   0.604469\n",
       "0.06809000000000154  2.077469999999998 ...   0.729689999999998  0.6043065"
      ]
     },
     "execution_count": 6,
     "metadata": {},
     "output_type": "execute_result"
    }
   ],
   "source": [
    "mod_data"
   ]
  },
  {
   "cell_type": "code",
   "execution_count": 7,
   "id": "2204e13d",
   "metadata": {},
   "outputs": [],
   "source": [
    "mod_data.write('features_and_targets_data.csv', overwrite=True, format='ascii.csv')"
   ]
  },
  {
   "cell_type": "code",
   "execution_count": 4,
   "id": "bb4f0cb5",
   "metadata": {},
   "outputs": [
    {
     "name": "stdout",
     "output_type": "stream",
     "text": [
      "[[1.22953    0.47452    0.3562     0.19553    0.05111748]\n",
      " [2.05587    1.06746    0.46672    0.38456    0.110159  ]\n",
      " [3.87639    1.56691    0.62501    0.35036    0.2846294 ]\n",
      " ...\n",
      " [2.90423    1.80244    1.15496    0.57423    0.6045263 ]\n",
      " [1.90469    1.92288    1.10752    0.85426    0.604469  ]\n",
      " [0.06809    2.07747    0.92618    0.72969    0.6043065 ]]\n"
     ]
    }
   ],
   "source": [
    "new_gal_data = np.loadtxt('features_and_targets_data.csv', delimiter=',', skiprows=1)\n",
    "print(new_gal_data)"
   ]
  },
  {
   "cell_type": "code",
   "execution_count": 5,
   "id": "25177162",
   "metadata": {},
   "outputs": [],
   "source": [
    "class Node():\n",
    "    \n",
    "    def __init__(self, feature_index=None, threshold=None, left=None, right=None, var_red=None, value=None):\n",
    "        # for decision node \n",
    "        self.feature_index = feature_index\n",
    "        self.threshold = threshold \n",
    "        self.left = left \n",
    "        self.right = right \n",
    "        self.var_red = var_red \n",
    "        \n",
    "        # for leaf node \n",
    "        self.value = value "
   ]
  },
  {
   "cell_type": "code",
   "execution_count": 7,
   "id": "99bf3970",
   "metadata": {},
   "outputs": [],
   "source": [
    "class DecisionTreeRegressor():\n",
    "    def __init__(self, min_samples_split=3, max_depth=3):\n",
    "        self.root=None\n",
    "        \n",
    "        self.min_samples_split = min_samples_split\n",
    "        self.max_depth = max_depth\n",
    "    \n",
    "    \n",
    "    def build_tree(self, dataset, current_depth=0):\n",
    "        X = dataset[:,:-1]\n",
    "        Y = dataset[:,-1]\n",
    "        num_samples, num_features = np.shape(X)\n",
    "        # !! using a dictionary to hold the key, 'feature_index' and its corresponding value, 'threshold' \n",
    "        # so that the key can be looped through \n",
    "        best_split = {} \n",
    "        if num_samples >= self.min_samples_split and current_depth<=self.max_depth:\n",
    "            # calling the 'get_best_split' function\n",
    "            best_split = self.get_best_split(dataset, num_samples, num_features)  \n",
    "            # check if variance reduction is positive\n",
    "            if best_split[\"var_red\"] > 0:\n",
    "                # recur left and right \n",
    "                left_subtree = self.build_tree(best_split[\"data_left\"], current_depth+1)\n",
    "                right_subtree = self.build_tree(best_split[\"data_right\"], current_depth+1)\n",
    "                \n",
    "                return Node(best_split[\"feature_index\"], best_split[\"threshold\"], left_subtree, \n",
    "                            right_subtree, best_split[\"var_red\"])\n",
    "        \n",
    "        leaf_value = self.calculate_leaf_value(Y)\n",
    "        return Node(value=leaf_value)\n",
    "    \n",
    "\n",
    "    \n",
    "    def variance_reduction(self, parent, left_child, right_child):\n",
    "        n_left = len(left_child)\n",
    "        n_right = len(right_child)\n",
    "        mean_left = sum(left_child) / n_left\n",
    "        mean_right = sum(right_child) / n_right \n",
    "        deviation_left = [(m - mean_left) ** 2 for m in left_child]\n",
    "        deviation_right = [(o - mean_right) ** 2 for o in right_child]\n",
    "        \n",
    "        var_left_child = sum(deviation_left) / n_left\n",
    "        var_right_child = sum(deviation_right) / n_right\n",
    "        \n",
    "        n_parent = len(parent)\n",
    "        mean_parent = sum(parent) / n_parent\n",
    "        deviation_parent = [(p - mean_parent) ** 2 for p in parent]\n",
    "        var_parent = sum(deviation_parent) / n_parent \n",
    "        \n",
    "        weight_left = len(left_child) / len(parent)\n",
    "        weight_right = len(right_child) / len(parent)\n",
    "        \n",
    "        reduction = var_parent - ((weight_left * var_left_child) + (weight_right * var_right_child)) \n",
    "        return reduction \n",
    "    \n",
    "    \n",
    "    \n",
    "    def get_best_split(self, dataset, num_samples, num_features):\n",
    "        best_split = {}\n",
    "        max_var_red = -float(\"inf\")\n",
    "        \n",
    "        # loop over all the features\n",
    "        for feature_index in range(num_features):\n",
    "            feature_values = dataset[:, feature_index]\n",
    "            \n",
    "            # find the unique items in feature values \n",
    "            feature_list = []\n",
    "            for item in feature_values:\n",
    "                if item not in feature_list:\n",
    "                    feature_list.append(item)         \n",
    "            possible_thresholds = feature_list \n",
    "            \n",
    "            # loop over all feature values present in the data\n",
    "            for threshold in possible_thresholds:\n",
    "                # find current split\n",
    "                data_left, data_right = self.split(dataset, feature_index, threshold)\n",
    "                \n",
    "                # check if child nodes are not null\n",
    "                if len(data_left) > 0 and len(data_right) > 0:\n",
    "                    y = dataset[:, -1]\n",
    "                    left_y = data_left[:, -1]\n",
    "                    right_y = data_right[:, -1]\n",
    "                    current_var_red = self.variance_reduction(y, left_y, right_y)\n",
    "                    \n",
    "                    # update best split if needed \n",
    "                    if current_var_red > max_var_red: \n",
    "                        best_split[\"feature_index\"] = feature_index\n",
    "                        best_split[\"threshold\"] = threshold\n",
    "                        best_split[\"data_left\"] = data_left\n",
    "                        best_split[\"data_right\"] = data_right\n",
    "                        best_split[\"var_red\"] = current_var_red\n",
    "                        max_var_red = current_var_red\n",
    "        \n",
    "        return best_split \n",
    "    \n",
    "    \n",
    "    \n",
    "    def split(self, dataset, feature_index, threshold):\n",
    "        # split the data in the tree for left or right nodes \n",
    "        data_left = np.array([row for row in dataset if row[feature_index]<=threshold])\n",
    "        data_right = np.array([row for row in dataset if row[feature_index]>=threshold])\n",
    "        return data_left, data_right\n",
    "    \n",
    "    \n",
    "    def calculate_leaf_value(self, Y):\n",
    "        leaf_value = sum(Y) / len(Y) # leaf value = mean of the targets at that node \n",
    "        return leaf_value\n",
    "        \n",
    "    def print_tree(self, tree=None, indent=\" \"):\n",
    "        if not tree:\n",
    "            tree = self.root\n",
    "\n",
    "        if tree.value != None: #checking if the leaf node is not null so that the tree can be recursively built \n",
    "            print(tree.value)\n",
    "\n",
    "        else:\n",
    "            print(\"X_\"+str(tree.feature_index), \"<=\", tree.threshold, \"var_red=\", tree.var_red)\n",
    "            print(\"%sleft:\" % (indent), end=\"\")\n",
    "            self.print_tree(tree.left, indent + indent)\n",
    "            print(\"%sright:\" % (indent), end=\"\")\n",
    "            self.print_tree(tree.right, indent + indent)\n",
    "            \n",
    "    def fit(self, X, Y):\n",
    "        dataset = np.concatenate((X, Y), axis=1) #concatenate arrays along x-axis - X is a 2D array, and Y is 1D array \n",
    "        self.root = self.build_tree(dataset)\n",
    "        \n",
    "    \n",
    "    def make_prediction(self, x, tree): # make a prediction for a single data point\n",
    "        if tree.value != None:\n",
    "            return tree.value\n",
    "        \n",
    "        feature_value = x[tree.feature_index]\n",
    "        if feature_value<=tree.threshold:\n",
    "            return self.make_prediction(x, tree.left)\n",
    "        else:\n",
    "            return self.make_prediction(x, tree.right)\n",
    "    \n",
    "    \n",
    "    def predict(self, X): # make prediction for the whole (sub)set \n",
    "        predictions = [self.make_prediction(x, self.root) for x in X]\n",
    "        return predictions\n",
    "    "
   ]
  },
  {
   "cell_type": "code",
   "execution_count": 8,
   "id": "56ebac27",
   "metadata": {},
   "outputs": [],
   "source": [
    "data_arr = np.array(new_gal_data)\n",
    "features = data_arr[:100,:-1] #X - subset of n galaxies*\n",
    "targets = data_arr[:100,-1].reshape(-1,1) #Y \n",
    "# *to print out the tree, I used a subset of n galaxies (>=100) because it is the most \n",
    "# efficient way to train and validate the model\n",
    "\n",
    "data_split = 2*features.shape[0]//3\n",
    "X_train, X_test = features[:data_split], features[data_split:]\n",
    "Y_train, Y_test = targets[:data_split], targets[data_split:]"
   ]
  },
  {
   "cell_type": "code",
   "execution_count": 9,
   "id": "327d2b1b",
   "metadata": {},
   "outputs": [
    {
     "name": "stdout",
     "output_type": "stream",
     "text": [
      "Execution time: 3.1400349140167236 seconds\n"
     ]
    }
   ],
   "source": [
    "start = time.time() # I will time how long it takes to train the decision tree as the size of the subset changes \n",
    "\n",
    "dtr = DecisionTreeRegressor(min_samples_split=3, max_depth=3)\n",
    "dtr.fit(X_train, Y_train)\n",
    "        \n",
    "time.sleep(3)\n",
    "end = time.time()\n",
    "elapsed_time = end - start\n",
    "print('Execution time:', elapsed_time, 'seconds')"
   ]
  },
  {
   "cell_type": "code",
   "execution_count": 10,
   "id": "ccb8cac4",
   "metadata": {
    "scrolled": false
   },
   "outputs": [
    {
     "name": "stdout",
     "output_type": "stream",
     "text": [
      "X_2 <= 0.7238499999999988 var_red= 0.030557185323516825\n",
      " left:X_1 <= 1.4968400000000024 var_red= 0.008643313295903182\n",
      "  left:X_1 <= 1.010200000000001 var_red= 0.000930318648129077\n",
      "    left:X_1 <= 0.8405299999999976 var_red= 0.00013836726588294123\n",
      "        left:0.09564171615384616\n",
      "        right:0.07116591222222221\n",
      "    right:X_1 <= 1.2352999999999987 var_red= 0.0006989810691996281\n",
      "        left:0.13254752076923076\n",
      "        right:0.1930264\n",
      "  right:X_1 <= 1.821620000000003 var_red= 0.0008864648478385689\n",
      "    left:X_1 <= 1.56691 var_red= 0.0006026076487341096\n",
      "        left:0.25467426666666665\n",
      "        right:0.3056647142857143\n",
      "    right:X_3 <= 0.4215699999999991 var_red= 0.00017144552225693875\n",
      "        left:0.3389222\n",
      "        right:0.36396684999999995\n",
      " right:X_2 <= 1.0167300000000026 var_red= 0.0037995155894254362\n",
      "  left:X_2 <= 0.7917999999999985 var_red= 0.0013535597913689997\n",
      "    left:0.41890115\n",
      "    right:X_0 <= 1.4004799999999982 var_red= 0.00029013921691583373\n",
      "        left:0.5023220666666667\n",
      "        right:0.4709137\n",
      "  right:X_2 <= 1.3544400000000003 var_red= 0.0010752006246921822\n",
      "    left:X_0 <= 0.4112599999999986 var_red= 0.0005147334523951156\n",
      "        left:0.5340597\n",
      "        right:0.59851417\n",
      "    right:X_0 <= 0.962769999999999 var_red= 0.0003602189748922215\n",
      "        left:0.68787355\n",
      "        right:0.65464175\n"
     ]
    }
   ],
   "source": [
    "dtr.print_tree()"
   ]
  },
  {
   "cell_type": "code",
   "execution_count": 11,
   "id": "717495c9",
   "metadata": {},
   "outputs": [
    {
     "name": "stdout",
     "output_type": "stream",
     "text": [
      "[0.59851417, 0.68787355, 0.36396684999999995, 0.4709137, 0.4709137, 0.09564171615384616, 0.4709137, 0.3056647142857143, 0.5340597, 0.4709137]\n"
     ]
    }
   ],
   "source": [
    "pred = dtr.predict(X_test)\n",
    "print(pred[:10])"
   ]
  },
  {
   "cell_type": "code",
   "execution_count": 12,
   "id": "fcc8c440",
   "metadata": {},
   "outputs": [
    {
     "name": "stdout",
     "output_type": "stream",
     "text": [
      "[0.02911867 0.02911867 0.03790934 0.03790934 0.03790934 0.03790934\n",
      " 0.03790934 0.04653931 0.04653931 0.05851184 0.06316805 0.07050764\n",
      " 0.1046201  0.1046201  0.19316649 0.19316649 0.20979523 0.20979523\n",
      " 0.22231756 0.23519687 0.2886703  0.31890974 0.31890974 0.31890974\n",
      " 0.31890974 0.33617486 0.36893564 0.36893564 0.40116288 0.40116288\n",
      " 0.40116288 0.40116288 0.40116288 0.45808047]\n"
     ]
    }
   ],
   "source": [
    "diff = np.abs(Y_test - pred) # this algorithm does not work - the next cell has the working algorithm \n",
    "len_diff = len(diff)\n",
    "diff.sort()\n",
    "\n",
    "if len_diff % 2 == 0:\n",
    "\tmed1 = diff[len_diff//2]\n",
    "\tmed2 = diff[len_diff//2 - 1]\n",
    "\tmed_diff = (med1 + med2)/2\n",
    "else:\n",
    "\tmed_diff = diff[len_diff//2]\n",
    "print(str(med_diff))"
   ]
  },
  {
   "cell_type": "code",
   "execution_count": 13,
   "id": "686ff236",
   "metadata": {},
   "outputs": [
    {
     "name": "stdout",
     "output_type": "stream",
     "text": [
      "The median difference is 0.22599117923076922\n"
     ]
    }
   ],
   "source": [
    "diff = abs(Y_test - pred)\n",
    "median_diff = np.median(diff)\n",
    "print(\"The median difference is \" + str(median_diff))"
   ]
  },
  {
   "cell_type": "code",
   "execution_count": 14,
   "id": "3e8120fd",
   "metadata": {},
   "outputs": [
    {
     "data": {
      "image/png": "[encoded data removed]",
      "text/plain": [
       "<Figure size 640x480 with 1 Axes>"
      ]
     },
     "metadata": {},
     "output_type": "display_data"
    }
   ],
   "source": [
    "#creating a plot of the predicted redshifts against the actual redshifts\n",
    "plt.scatter(Y_test, pred, color=\"red\", marker='o',  s=0.05)\n",
    "plt.xlabel('actual redshift')\n",
    "plt.ylabel('predicted redshift')\n",
    "\n",
    "plt.xlim(0, 1.0)\n",
    "plt.ylim(0, 1.0)\n",
    "\n",
    "plt.show()"
   ]
  }
 ],
 "metadata": {
  "kernelspec": {
   "display_name": "Python 3 (ipykernel)",
   "language": "python",
   "name": "python3"
  },
  "language_info": {
   "codemirror_mode": {
    "name": "ipython",
    "version": 3
   },
   "file_extension": ".py",
   "mimetype": "text/x-python",
   "name": "python",
   "nbconvert_exporter": "python",
   "pygments_lexer": "ipython3",
   "version": "3.11.2"
  }
 },
 "nbformat": 4,
 "nbformat_minor": 5
}
